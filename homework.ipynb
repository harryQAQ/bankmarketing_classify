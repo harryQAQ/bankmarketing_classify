{
 "cells": [
  {
   "cell_type": "markdown",
   "metadata": {},
   "source": [
    "#### 选取UCI机器学习库中的银行营销数据集进行分类任务\n",
    " \n"
   ]
  },
  {
   "cell_type": "markdown",
   "metadata": {},
   "source": [
    "这些数据与葡萄牙银行机构的直接营销活动有关。这些直接营销活动是以电话为基础的。通常来说，银行机构的客服人员至少需要联系一次客户来得知客户是否将认购银行的产品（定期存款）。该数据集对应的任务是分类任务，而分类目标是预测客户是(yes)否(no)认购定期存款（变量y）。"
   ]
  },
  {
   "cell_type": "code",
   "execution_count": 1,
   "metadata": {},
   "outputs": [],
   "source": [
    "import pandas as pd\n",
    "data_path = '~/Desktop/homework/bank-additional/bank-additional-full.csv'\n",
    "data = pd.read_csv(data_path, sep = ';')"
   ]
  },
  {
   "cell_type": "markdown",
   "metadata": {},
   "source": [
    "+ 查看数据集基本信息"
   ]
  },
  {
   "cell_type": "code",
   "execution_count": 2,
   "metadata": {},
   "outputs": [
    {
     "name": "stdout",
     "output_type": "stream",
     "text": [
      "Index(['age', 'job', 'marital', 'education', 'default', 'housing', 'loan',\n",
      "       'contact', 'month', 'day_of_week', 'duration', 'campaign', 'pdays',\n",
      "       'previous', 'poutcome', 'emp.var.rate', 'cons.price.idx',\n",
      "       'cons.conf.idx', 'euribor3m', 'nr.employed', 'y'],\n",
      "      dtype='object')\n"
     ]
    }
   ],
   "source": [
    "print(data.columns)"
   ]
  },
  {
   "cell_type": "code",
   "execution_count": 3,
   "metadata": {},
   "outputs": [
    {
     "name": "stdout",
     "output_type": "stream",
     "text": [
      "    age            job   marital            education  default  housing  \\\n",
      "0    56      housemaid   married             basic.4y       no       no   \n",
      "1    57       services   married          high.school  unknown       no   \n",
      "2    37       services   married          high.school       no      yes   \n",
      "3    40         admin.   married             basic.6y       no       no   \n",
      "4    56       services   married          high.school       no       no   \n",
      "5    45       services   married             basic.9y  unknown       no   \n",
      "6    59         admin.   married  professional.course       no       no   \n",
      "7    41    blue-collar   married              unknown  unknown       no   \n",
      "8    24     technician    single  professional.course       no      yes   \n",
      "9    25       services    single          high.school       no      yes   \n",
      "10   41    blue-collar   married              unknown  unknown       no   \n",
      "11   25       services    single          high.school       no      yes   \n",
      "12   29    blue-collar    single          high.school       no       no   \n",
      "13   57      housemaid  divorced             basic.4y       no      yes   \n",
      "14   35    blue-collar   married             basic.6y       no      yes   \n",
      "15   54        retired   married             basic.9y  unknown      yes   \n",
      "16   35    blue-collar   married             basic.6y       no      yes   \n",
      "17   46    blue-collar   married             basic.6y  unknown      yes   \n",
      "18   50    blue-collar   married             basic.9y       no      yes   \n",
      "19   39     management    single             basic.9y  unknown       no   \n",
      "20   30     unemployed   married          high.school       no       no   \n",
      "21   55    blue-collar   married             basic.4y  unknown      yes   \n",
      "22   55        retired    single          high.school       no      yes   \n",
      "23   41     technician    single          high.school       no      yes   \n",
      "24   37         admin.   married          high.school       no      yes   \n",
      "25   35     technician   married    university.degree       no       no   \n",
      "26   59     technician   married              unknown       no      yes   \n",
      "27   39  self-employed   married             basic.9y  unknown       no   \n",
      "28   54     technician    single    university.degree  unknown       no   \n",
      "29   55        unknown   married    university.degree  unknown  unknown   \n",
      "30   46         admin.   married              unknown       no       no   \n",
      "31   59     technician   married              unknown       no      yes   \n",
      "32   49    blue-collar   married              unknown       no       no   \n",
      "33   54     management   married             basic.4y  unknown      yes   \n",
      "34   54    blue-collar  divorced             basic.4y       no       no   \n",
      "35   55        unknown   married             basic.4y  unknown      yes   \n",
      "36   34       services   married          high.school       no       no   \n",
      "37   52     technician   married             basic.9y       no      yes   \n",
      "38   41         admin.   married    university.degree       no      yes   \n",
      "39   56     technician   married             basic.4y       no      yes   \n",
      "40   58     management   unknown    university.degree       no      yes   \n",
      "41   32   entrepreneur   married          high.school       no      yes   \n",
      "42   38         admin.    single  professional.course       no       no   \n",
      "43   57         admin.   married    university.degree       no       no   \n",
      "44   44         admin.   married    university.degree  unknown      yes   \n",
      "45   42     technician    single  professional.course  unknown       no   \n",
      "46   57         admin.   married    university.degree       no      yes   \n",
      "47   40    blue-collar   married             basic.9y       no       no   \n",
      "48   35         admin.   married    university.degree       no      yes   \n",
      "49   45    blue-collar   married             basic.9y       no      yes   \n",
      "\n",
      "       loan    contact month day_of_week  ...  campaign  pdays  previous  \\\n",
      "0        no  telephone   may         mon  ...         1    999         0   \n",
      "1        no  telephone   may         mon  ...         1    999         0   \n",
      "2        no  telephone   may         mon  ...         1    999         0   \n",
      "3        no  telephone   may         mon  ...         1    999         0   \n",
      "4       yes  telephone   may         mon  ...         1    999         0   \n",
      "5        no  telephone   may         mon  ...         1    999         0   \n",
      "6        no  telephone   may         mon  ...         1    999         0   \n",
      "7        no  telephone   may         mon  ...         1    999         0   \n",
      "8        no  telephone   may         mon  ...         1    999         0   \n",
      "9        no  telephone   may         mon  ...         1    999         0   \n",
      "10       no  telephone   may         mon  ...         1    999         0   \n",
      "11       no  telephone   may         mon  ...         1    999         0   \n",
      "12      yes  telephone   may         mon  ...         1    999         0   \n",
      "13       no  telephone   may         mon  ...         1    999         0   \n",
      "14       no  telephone   may         mon  ...         1    999         0   \n",
      "15      yes  telephone   may         mon  ...         1    999         0   \n",
      "16       no  telephone   may         mon  ...         1    999         0   \n",
      "17      yes  telephone   may         mon  ...         1    999         0   \n",
      "18      yes  telephone   may         mon  ...         1    999         0   \n",
      "19       no  telephone   may         mon  ...         1    999         0   \n",
      "20       no  telephone   may         mon  ...         1    999         0   \n",
      "21       no  telephone   may         mon  ...         1    999         0   \n",
      "22       no  telephone   may         mon  ...         1    999         0   \n",
      "23       no  telephone   may         mon  ...         1    999         0   \n",
      "24       no  telephone   may         mon  ...         1    999         0   \n",
      "25      yes  telephone   may         mon  ...         1    999         0   \n",
      "26       no  telephone   may         mon  ...         1    999         0   \n",
      "27       no  telephone   may         mon  ...         1    999         0   \n",
      "28       no  telephone   may         mon  ...         2    999         0   \n",
      "29  unknown  telephone   may         mon  ...         1    999         0   \n",
      "30       no  telephone   may         mon  ...         1    999         0   \n",
      "31       no  telephone   may         mon  ...         1    999         0   \n",
      "32       no  telephone   may         mon  ...         1    999         0   \n",
      "33       no  telephone   may         mon  ...         1    999         0   \n",
      "34       no  telephone   may         mon  ...         1    999         0   \n",
      "35       no  telephone   may         mon  ...         1    999         0   \n",
      "36       no  telephone   may         mon  ...         1    999         0   \n",
      "37       no  telephone   may         mon  ...         1    999         0   \n",
      "38       no  telephone   may         mon  ...         1    999         0   \n",
      "39       no  telephone   may         mon  ...         1    999         0   \n",
      "40       no  telephone   may         mon  ...         1    999         0   \n",
      "41       no  telephone   may         mon  ...         1    999         0   \n",
      "42       no  telephone   may         mon  ...         1    999         0   \n",
      "43      yes  telephone   may         mon  ...         1    999         0   \n",
      "44       no  telephone   may         mon  ...         1    999         0   \n",
      "45       no  telephone   may         mon  ...         1    999         0   \n",
      "46      yes  telephone   may         mon  ...         1    999         0   \n",
      "47      yes  telephone   may         mon  ...         1    999         0   \n",
      "48       no  telephone   may         mon  ...         1    999         0   \n",
      "49       no  telephone   may         mon  ...         2    999         0   \n",
      "\n",
      "       poutcome emp.var.rate  cons.price.idx  cons.conf.idx  euribor3m  \\\n",
      "0   nonexistent          1.1          93.994          -36.4      4.857   \n",
      "1   nonexistent          1.1          93.994          -36.4      4.857   \n",
      "2   nonexistent          1.1          93.994          -36.4      4.857   \n",
      "3   nonexistent          1.1          93.994          -36.4      4.857   \n",
      "4   nonexistent          1.1          93.994          -36.4      4.857   \n",
      "5   nonexistent          1.1          93.994          -36.4      4.857   \n",
      "6   nonexistent          1.1          93.994          -36.4      4.857   \n",
      "7   nonexistent          1.1          93.994          -36.4      4.857   \n",
      "8   nonexistent          1.1          93.994          -36.4      4.857   \n",
      "9   nonexistent          1.1          93.994          -36.4      4.857   \n",
      "10  nonexistent          1.1          93.994          -36.4      4.857   \n",
      "11  nonexistent          1.1          93.994          -36.4      4.857   \n",
      "12  nonexistent          1.1          93.994          -36.4      4.857   \n",
      "13  nonexistent          1.1          93.994          -36.4      4.857   \n",
      "14  nonexistent          1.1          93.994          -36.4      4.857   \n",
      "15  nonexistent          1.1          93.994          -36.4      4.857   \n",
      "16  nonexistent          1.1          93.994          -36.4      4.857   \n",
      "17  nonexistent          1.1          93.994          -36.4      4.857   \n",
      "18  nonexistent          1.1          93.994          -36.4      4.857   \n",
      "19  nonexistent          1.1          93.994          -36.4      4.857   \n",
      "20  nonexistent          1.1          93.994          -36.4      4.857   \n",
      "21  nonexistent          1.1          93.994          -36.4      4.857   \n",
      "22  nonexistent          1.1          93.994          -36.4      4.857   \n",
      "23  nonexistent          1.1          93.994          -36.4      4.857   \n",
      "24  nonexistent          1.1          93.994          -36.4      4.857   \n",
      "25  nonexistent          1.1          93.994          -36.4      4.857   \n",
      "26  nonexistent          1.1          93.994          -36.4      4.857   \n",
      "27  nonexistent          1.1          93.994          -36.4      4.857   \n",
      "28  nonexistent          1.1          93.994          -36.4      4.857   \n",
      "29  nonexistent          1.1          93.994          -36.4      4.857   \n",
      "30  nonexistent          1.1          93.994          -36.4      4.857   \n",
      "31  nonexistent          1.1          93.994          -36.4      4.857   \n",
      "32  nonexistent          1.1          93.994          -36.4      4.857   \n",
      "33  nonexistent          1.1          93.994          -36.4      4.857   \n",
      "34  nonexistent          1.1          93.994          -36.4      4.857   \n",
      "35  nonexistent          1.1          93.994          -36.4      4.857   \n",
      "36  nonexistent          1.1          93.994          -36.4      4.857   \n",
      "37  nonexistent          1.1          93.994          -36.4      4.857   \n",
      "38  nonexistent          1.1          93.994          -36.4      4.857   \n",
      "39  nonexistent          1.1          93.994          -36.4      4.857   \n",
      "40  nonexistent          1.1          93.994          -36.4      4.857   \n",
      "41  nonexistent          1.1          93.994          -36.4      4.857   \n",
      "42  nonexistent          1.1          93.994          -36.4      4.857   \n",
      "43  nonexistent          1.1          93.994          -36.4      4.857   \n",
      "44  nonexistent          1.1          93.994          -36.4      4.857   \n",
      "45  nonexistent          1.1          93.994          -36.4      4.857   \n",
      "46  nonexistent          1.1          93.994          -36.4      4.857   \n",
      "47  nonexistent          1.1          93.994          -36.4      4.857   \n",
      "48  nonexistent          1.1          93.994          -36.4      4.857   \n",
      "49  nonexistent          1.1          93.994          -36.4      4.857   \n",
      "\n",
      "    nr.employed   y  \n",
      "0        5191.0  no  \n",
      "1        5191.0  no  \n",
      "2        5191.0  no  \n",
      "3        5191.0  no  \n",
      "4        5191.0  no  \n",
      "5        5191.0  no  \n",
      "6        5191.0  no  \n",
      "7        5191.0  no  \n",
      "8        5191.0  no  \n",
      "9        5191.0  no  \n",
      "10       5191.0  no  \n",
      "11       5191.0  no  \n",
      "12       5191.0  no  \n",
      "13       5191.0  no  \n",
      "14       5191.0  no  \n",
      "15       5191.0  no  \n",
      "16       5191.0  no  \n",
      "17       5191.0  no  \n",
      "18       5191.0  no  \n",
      "19       5191.0  no  \n",
      "20       5191.0  no  \n",
      "21       5191.0  no  \n",
      "22       5191.0  no  \n",
      "23       5191.0  no  \n",
      "24       5191.0  no  \n",
      "25       5191.0  no  \n",
      "26       5191.0  no  \n",
      "27       5191.0  no  \n",
      "28       5191.0  no  \n",
      "29       5191.0  no  \n",
      "30       5191.0  no  \n",
      "31       5191.0  no  \n",
      "32       5191.0  no  \n",
      "33       5191.0  no  \n",
      "34       5191.0  no  \n",
      "35       5191.0  no  \n",
      "36       5191.0  no  \n",
      "37       5191.0  no  \n",
      "38       5191.0  no  \n",
      "39       5191.0  no  \n",
      "40       5191.0  no  \n",
      "41       5191.0  no  \n",
      "42       5191.0  no  \n",
      "43       5191.0  no  \n",
      "44       5191.0  no  \n",
      "45       5191.0  no  \n",
      "46       5191.0  no  \n",
      "47       5191.0  no  \n",
      "48       5191.0  no  \n",
      "49       5191.0  no  \n",
      "\n",
      "[50 rows x 21 columns]\n"
     ]
    }
   ],
   "source": [
    "print(data.head(50))"
   ]
  },
  {
   "cell_type": "code",
   "execution_count": 4,
   "metadata": {},
   "outputs": [
    {
     "name": "stdout",
     "output_type": "stream",
     "text": [
      "<class 'pandas.core.frame.DataFrame'>\n",
      "RangeIndex: 41188 entries, 0 to 41187\n",
      "Data columns (total 21 columns):\n",
      "age               41188 non-null int64\n",
      "job               41188 non-null object\n",
      "marital           41188 non-null object\n",
      "education         41188 non-null object\n",
      "default           41188 non-null object\n",
      "housing           41188 non-null object\n",
      "loan              41188 non-null object\n",
      "contact           41188 non-null object\n",
      "month             41188 non-null object\n",
      "day_of_week       41188 non-null object\n",
      "duration          41188 non-null int64\n",
      "campaign          41188 non-null int64\n",
      "pdays             41188 non-null int64\n",
      "previous          41188 non-null int64\n",
      "poutcome          41188 non-null object\n",
      "emp.var.rate      41188 non-null float64\n",
      "cons.price.idx    41188 non-null float64\n",
      "cons.conf.idx     41188 non-null float64\n",
      "euribor3m         41188 non-null float64\n",
      "nr.employed       41188 non-null float64\n",
      "y                 41188 non-null object\n",
      "dtypes: float64(5), int64(5), object(11)\n",
      "memory usage: 6.6+ MB\n"
     ]
    }
   ],
   "source": [
    "data.info()"
   ]
  },
  {
   "cell_type": "code",
   "execution_count": 5,
   "metadata": {
    "scrolled": true
   },
   "outputs": [
    {
     "data": {
      "text/html": [
       "<div>\n",
       "<style scoped>\n",
       "    .dataframe tbody tr th:only-of-type {\n",
       "        vertical-align: middle;\n",
       "    }\n",
       "\n",
       "    .dataframe tbody tr th {\n",
       "        vertical-align: top;\n",
       "    }\n",
       "\n",
       "    .dataframe thead th {\n",
       "        text-align: right;\n",
       "    }\n",
       "</style>\n",
       "<table border=\"1\" class=\"dataframe\">\n",
       "  <thead>\n",
       "    <tr style=\"text-align: right;\">\n",
       "      <th></th>\n",
       "      <th>age</th>\n",
       "      <th>duration</th>\n",
       "      <th>campaign</th>\n",
       "      <th>pdays</th>\n",
       "      <th>previous</th>\n",
       "      <th>emp.var.rate</th>\n",
       "      <th>cons.price.idx</th>\n",
       "      <th>cons.conf.idx</th>\n",
       "      <th>euribor3m</th>\n",
       "      <th>nr.employed</th>\n",
       "    </tr>\n",
       "  </thead>\n",
       "  <tbody>\n",
       "    <tr>\n",
       "      <th>count</th>\n",
       "      <td>41188.00000</td>\n",
       "      <td>41188.000000</td>\n",
       "      <td>41188.000000</td>\n",
       "      <td>41188.000000</td>\n",
       "      <td>41188.000000</td>\n",
       "      <td>41188.000000</td>\n",
       "      <td>41188.000000</td>\n",
       "      <td>41188.000000</td>\n",
       "      <td>41188.000000</td>\n",
       "      <td>41188.000000</td>\n",
       "    </tr>\n",
       "    <tr>\n",
       "      <th>mean</th>\n",
       "      <td>40.02406</td>\n",
       "      <td>258.285010</td>\n",
       "      <td>2.567593</td>\n",
       "      <td>962.475454</td>\n",
       "      <td>0.172963</td>\n",
       "      <td>0.081886</td>\n",
       "      <td>93.575664</td>\n",
       "      <td>-40.502600</td>\n",
       "      <td>3.621291</td>\n",
       "      <td>5167.035911</td>\n",
       "    </tr>\n",
       "    <tr>\n",
       "      <th>std</th>\n",
       "      <td>10.42125</td>\n",
       "      <td>259.279249</td>\n",
       "      <td>2.770014</td>\n",
       "      <td>186.910907</td>\n",
       "      <td>0.494901</td>\n",
       "      <td>1.570960</td>\n",
       "      <td>0.578840</td>\n",
       "      <td>4.628198</td>\n",
       "      <td>1.734447</td>\n",
       "      <td>72.251528</td>\n",
       "    </tr>\n",
       "    <tr>\n",
       "      <th>min</th>\n",
       "      <td>17.00000</td>\n",
       "      <td>0.000000</td>\n",
       "      <td>1.000000</td>\n",
       "      <td>0.000000</td>\n",
       "      <td>0.000000</td>\n",
       "      <td>-3.400000</td>\n",
       "      <td>92.201000</td>\n",
       "      <td>-50.800000</td>\n",
       "      <td>0.634000</td>\n",
       "      <td>4963.600000</td>\n",
       "    </tr>\n",
       "    <tr>\n",
       "      <th>25%</th>\n",
       "      <td>32.00000</td>\n",
       "      <td>102.000000</td>\n",
       "      <td>1.000000</td>\n",
       "      <td>999.000000</td>\n",
       "      <td>0.000000</td>\n",
       "      <td>-1.800000</td>\n",
       "      <td>93.075000</td>\n",
       "      <td>-42.700000</td>\n",
       "      <td>1.344000</td>\n",
       "      <td>5099.100000</td>\n",
       "    </tr>\n",
       "    <tr>\n",
       "      <th>50%</th>\n",
       "      <td>38.00000</td>\n",
       "      <td>180.000000</td>\n",
       "      <td>2.000000</td>\n",
       "      <td>999.000000</td>\n",
       "      <td>0.000000</td>\n",
       "      <td>1.100000</td>\n",
       "      <td>93.749000</td>\n",
       "      <td>-41.800000</td>\n",
       "      <td>4.857000</td>\n",
       "      <td>5191.000000</td>\n",
       "    </tr>\n",
       "    <tr>\n",
       "      <th>75%</th>\n",
       "      <td>47.00000</td>\n",
       "      <td>319.000000</td>\n",
       "      <td>3.000000</td>\n",
       "      <td>999.000000</td>\n",
       "      <td>0.000000</td>\n",
       "      <td>1.400000</td>\n",
       "      <td>93.994000</td>\n",
       "      <td>-36.400000</td>\n",
       "      <td>4.961000</td>\n",
       "      <td>5228.100000</td>\n",
       "    </tr>\n",
       "    <tr>\n",
       "      <th>max</th>\n",
       "      <td>98.00000</td>\n",
       "      <td>4918.000000</td>\n",
       "      <td>56.000000</td>\n",
       "      <td>999.000000</td>\n",
       "      <td>7.000000</td>\n",
       "      <td>1.400000</td>\n",
       "      <td>94.767000</td>\n",
       "      <td>-26.900000</td>\n",
       "      <td>5.045000</td>\n",
       "      <td>5228.100000</td>\n",
       "    </tr>\n",
       "  </tbody>\n",
       "</table>\n",
       "</div>"
      ],
      "text/plain": [
       "               age      duration      campaign         pdays      previous  \\\n",
       "count  41188.00000  41188.000000  41188.000000  41188.000000  41188.000000   \n",
       "mean      40.02406    258.285010      2.567593    962.475454      0.172963   \n",
       "std       10.42125    259.279249      2.770014    186.910907      0.494901   \n",
       "min       17.00000      0.000000      1.000000      0.000000      0.000000   \n",
       "25%       32.00000    102.000000      1.000000    999.000000      0.000000   \n",
       "50%       38.00000    180.000000      2.000000    999.000000      0.000000   \n",
       "75%       47.00000    319.000000      3.000000    999.000000      0.000000   \n",
       "max       98.00000   4918.000000     56.000000    999.000000      7.000000   \n",
       "\n",
       "       emp.var.rate  cons.price.idx  cons.conf.idx     euribor3m   nr.employed  \n",
       "count  41188.000000    41188.000000   41188.000000  41188.000000  41188.000000  \n",
       "mean       0.081886       93.575664     -40.502600      3.621291   5167.035911  \n",
       "std        1.570960        0.578840       4.628198      1.734447     72.251528  \n",
       "min       -3.400000       92.201000     -50.800000      0.634000   4963.600000  \n",
       "25%       -1.800000       93.075000     -42.700000      1.344000   5099.100000  \n",
       "50%        1.100000       93.749000     -41.800000      4.857000   5191.000000  \n",
       "75%        1.400000       93.994000     -36.400000      4.961000   5228.100000  \n",
       "max        1.400000       94.767000     -26.900000      5.045000   5228.100000  "
      ]
     },
     "execution_count": 5,
     "metadata": {},
     "output_type": "execute_result"
    }
   ],
   "source": [
    "data.describe()"
   ]
  },
  {
   "cell_type": "markdown",
   "metadata": {},
   "source": [
    "可见，数据集的输入变量是20个特征量，分为数值变量（numeric）和分类（categorical）变量。输出变量为y，即客户是否已经认购定期存款(binary: \"yes\", \"no\")。"
   ]
  },
  {
   "cell_type": "markdown",
   "metadata": {},
   "source": [
    "+ 接下来进行数据预处理与数据特征分析与特征工程"
   ]
  },
  {
   "cell_type": "markdown",
   "metadata": {},
   "source": [
    " 由数据集基本信息可以看出：数值型变量（int64和float64）没有缺失。非数值型变量可能存在unknown值。\n"
   ]
  },
  {
   "cell_type": "code",
   "execution_count": 6,
   "metadata": {},
   "outputs": [
    {
     "data": {
      "text/plain": [
       "29        no\n",
       "35        no\n",
       "73        no\n",
       "91        no\n",
       "144       no\n",
       "299       no\n",
       "303       no\n",
       "343       no\n",
       "388      yes\n",
       "428       no\n",
       "476       no\n",
       "483       no\n",
       "507       no\n",
       "582       no\n",
       "584       no\n",
       "794       no\n",
       "878       no\n",
       "885       no\n",
       "961       no\n",
       "1131      no\n",
       "1165      no\n",
       "1181      no\n",
       "1205      no\n",
       "1207      no\n",
       "1229      no\n",
       "1271      no\n",
       "1376      no\n",
       "1608     yes\n",
       "1671      no\n",
       "1680      no\n",
       "        ... \n",
       "38153     no\n",
       "38198     no\n",
       "38199    yes\n",
       "38204    yes\n",
       "38449     no\n",
       "38532     no\n",
       "38537     no\n",
       "38697    yes\n",
       "38700    yes\n",
       "38916     no\n",
       "38966    yes\n",
       "39108     no\n",
       "39146     no\n",
       "39700     no\n",
       "39771     no\n",
       "39776    yes\n",
       "39777     no\n",
       "39893    yes\n",
       "39993    yes\n",
       "39997     no\n",
       "40058     no\n",
       "40208     no\n",
       "40240    yes\n",
       "40244    yes\n",
       "40289    yes\n",
       "40370    yes\n",
       "40428    yes\n",
       "40656    yes\n",
       "41005     no\n",
       "41108     no\n",
       "Name: y, Length: 330, dtype: object"
      ]
     },
     "execution_count": 6,
     "metadata": {},
     "output_type": "execute_result"
    }
   ],
   "source": [
    "data[data['job'] == 'unknown']['y']       #测试 job数据项缺失值 选取有输出y的列"
   ]
  },
  {
   "cell_type": "code",
   "execution_count": 8,
   "metadata": {},
   "outputs": [
    {
     "name": "stdout",
     "output_type": "stream",
     "text": [
      "变量job中有缺失值个数：\t330\n",
      "变量marital中有缺失值个数：\t80\n",
      "变量education中有缺失值个数：\t1731\n",
      "变量default中有缺失值个数：\t8597\n",
      "变量housing中有缺失值个数：\t990\n",
      "变量loan中有缺失值个数：\t990\n",
      "变量contact中有缺失值个数：\t0\n",
      "变量month中有缺失值个数：\t0\n",
      "变量day_of_week中有缺失值个数：\t0\n",
      "变量poutcome中有缺失值个数：\t0\n",
      "变量y中有缺失值个数：\t0\n"
     ]
    }
   ],
   "source": [
    "for name in data.columns:\n",
    "    if type(data[name][0]) is str:\n",
    "        #\n",
    "        print(\"变量\"+ name + '中有缺失值个数：\\t' + str(data[data[name] == 'unknown']['y'].count()))"
   ]
  },
  {
   "cell_type": "markdown",
   "metadata": {},
   "source": [
    "对于unknown值数量较少的变量，包括job和marital，删除这些变量是缺失值(unknown)的行；可以使用数据完整的行作为训练集，以此来预测缺失值，变量housing，loan，education和default的缺失值采取此法。由于sklearn的模型只能处理数值变量，需要先将分类变量数值化，然后进行预测。"
   ]
  },
  {
   "cell_type": "code",
   "execution_count": 7,
   "metadata": {},
   "outputs": [
    {
     "name": "stderr",
     "output_type": "stream",
     "text": [
      "/usr/local/lib/python3.7/site-packages/matplotlib/axes/_axes.py:6521: MatplotlibDeprecationWarning: \n",
      "The 'normed' kwarg was deprecated in Matplotlib 2.1 and will be removed in 3.1. Use 'density' instead.\n",
      "  alternative=\"'density'\", removal=\"3.1\")\n"
     ]
    },
    {
     "data": {
      "image/png": "[encoded data removed]",
      "text/plain": [
       "<Figure size 432x288 with 1 Axes>"
      ]
     },
     "metadata": {
      "needs_background": "light"
     },
     "output_type": "display_data"
    }
   ],
   "source": [
    "import matplotlib.pyplot as plt\n",
    "\n",
    "kwargs = dict(histtype='stepfilled', alpha=0.3, normed=True, bins=40)\n",
    "plt.hist(data[data['y']=='yes']['age'],label = \"Yes\", **kwargs)\n",
    "plt.hist(data[data['y']=='no']['age'],label = \"No\", **kwargs)\n",
    "plt.legend()\n",
    "plt.show()"
   ]
  },
  {
   "cell_type": "code",
   "execution_count": 8,
   "metadata": {},
   "outputs": [
    {
     "data": {
      "image/png": "[encoded data removed]",
      "text/plain": [
       "<Figure size 576x288 with 2 Axes>"
      ]
     },
     "metadata": {
      "needs_background": "light"
     },
     "output_type": "display_data"
    }
   ],
   "source": [
    "#职业\n",
    "job = data[data['y']=='yes'].groupby('job').count()['y'].index\n",
    "job_count_yes = data[data['y']=='yes'].groupby('job').count()['y']\n",
    "job_count_no = data[data['y']=='no'].groupby('job').count()['y']\n",
    "\n",
    "width = 0.5\n",
    "plt.figure(figsize=(8, 4)) \n",
    "plt.subplot(121)\n",
    "plt.bar(job,job_count_yes, width, color='green', label='Yes')\n",
    "plt.bar(job,job_count_no, width, bottom = job_count_yes, color='red', label='No')\n",
    "plt.xticks(rotation=90)\n",
    "plt.legend()\n",
    "plt.subplot(122)\n",
    "plt.bar(job,job_count_yes/job_count_no, width, color='blue', label='Yes/No')\n",
    "plt.xticks(rotation=90)\n",
    "plt.legend()\n",
    "plt.show()"
   ]
  },
  {
   "cell_type": "code",
   "execution_count": 9,
   "metadata": {},
   "outputs": [
    {
     "data": {
      "image/png": "[encoded data removed]",
      "text/plain": [
       "<Figure size 576x288 with 2 Axes>"
      ]
     },
     "metadata": {},
     "output_type": "display_data"
    }
   ],
   "source": [
    "#婚姻状况\n",
    "marital = data[data['y']=='yes'].groupby('marital').count()['y'].index\n",
    "marital_count_yes = data[data['y']=='yes'].groupby('marital').count()['y']\n",
    "marital_count_no = data[data['y']=='no'].groupby('marital').count()['y']\n",
    "plt.figure(figsize=(8, 4)) \n",
    "plt.subplot(121)\n",
    "plt.title('Yes')\n",
    "plt.pie(marital_count_yes.values,labels = marital)\n",
    "plt.subplot(122)\n",
    "plt.title('No')\n",
    "plt.pie(marital_count_no.values,labels = marital)\n",
    "plt.show()"
   ]
  },
  {
   "cell_type": "code",
   "execution_count": 11,
   "metadata": {},
   "outputs": [
    {
     "data": {
      "image/png": "[encoded data removed]",
      "text/plain": [
       "<Figure size 432x288 with 2 Axes>"
      ]
     },
     "metadata": {
      "needs_background": "light"
     },
     "output_type": "display_data"
    }
   ],
   "source": [
    "import numpy as np\n",
    "#受教育程度\n",
    "edu =  [\"illiterate\", \"basic.4y\", \"basic.6y\", \"basic.9y\", \"high.school\",  \"professional.course\", \"university.degree\",\"unknown\"]\n",
    "education_count_yes = data[data['y']=='yes'].groupby('education').count()['y']\n",
    "education_count_no = data[data['y']=='no'].groupby('education').count()['y']\n",
    "#按照学历对数据行重新排序\n",
    "education_count_yes = education_count_yes.reindex(index=edu)\n",
    "education_count_no = education_count_no.reindex(index=edu)\n",
    "y = education_count_yes\n",
    "n = education_count_no\n",
    "fig = plt.figure()\n",
    "ax1 = fig.add_subplot(111)\n",
    "plt.xticks(rotation=90)\n",
    "ax1.plot(y.values,'b',label = \"Yes\")\n",
    "ax1.set_xticks(np.arange(len(edu)))\n",
    "ax1.set_xticklabels(edu)\n",
    "ax1.set_ylabel('Yes')\n",
    "ax1.set_title(\"Education\")\n",
    "plt.legend()\n",
    "ax2 = ax1.twinx()  # this is the important function\n",
    "ax2.plot(n.values, 'r',label = \"No\")\n",
    "ax2.set_xticks(np.arange(len(edu)))\n",
    "ax2.set_xticklabels(edu)\n",
    "ax2.set_ylabel('No')\n",
    "plt.legend()\n",
    "plt.show()"
   ]
  },
  {
   "cell_type": "code",
   "execution_count": 9,
   "metadata": {},
   "outputs": [],
   "source": [
    "from datetime import datetime\n",
    "from sklearn.ensemble import RandomForestClassifier\n",
    "from sklearn.utils import shuffle\n",
    "from sklearn import preprocessing"
   ]
  },
  {
   "cell_type": "markdown",
   "metadata": {},
   "source": [
    "可以认为变量default 、housing 和loan 为二分类变量，对其进行0，1编码。"
   ]
  },
  {
   "cell_type": "code",
   "execution_count": 10,
   "metadata": {},
   "outputs": [],
   "source": [
    "#二分类encode\n",
    "def encode_bin_attrs(data, bin_attrs):    \n",
    "    for i in bin_attrs:\n",
    "        data.loc[data[i] == 'no', i] = 0\n",
    "        data.loc[data[i] == 'yes', i] = 1\n",
    "    return data"
   ]
  },
  {
   "cell_type": "markdown",
   "metadata": {},
   "source": [
    "可以认为变量education是有序分类变量，影响大小排序为\"illiterate\", \"basic.4y\", \"basic.6y\", \"basic.9y\", \"high.school\", \"professional.course\", \"university.degree\", 变量影响由小到大的顺序编码为1、2、3、...。"
   ]
  },
  {
   "cell_type": "code",
   "execution_count": 11,
   "metadata": {},
   "outputs": [],
   "source": [
    "#有序变量encode\n",
    "def encode_edu_attrs(data):\n",
    "    values = [\"illiterate\", \"basic.4y\", \"basic.6y\", \"basic.9y\", \n",
    "    \"high.school\",  \"professional.course\", \"university.degree\"]\n",
    "    levels = range(1,len(values)+1)\n",
    "    dict_levels = dict(zip(values, levels))\n",
    "    for v in values:\n",
    "        data.loc[data['education'] == v, 'education'] = dict_levels[v]\n",
    "    return data"
   ]
  },
  {
   "cell_type": "markdown",
   "metadata": {},
   "source": [
    "可以认为变量job，marital，contact，month，day_of_week为无序分类变量。需要说明的是，虽然变量month和day_of_week从时间角度是有序的，但是对于目标变量而言是无序的。对于无序分类变量，可以利用哑变量（dummy variables）进行编码。一般的，n个分类需要设置n-1个哑变量。例如，变量marital分为divorced、married、single，使用两个哑变量V1和V2来编码。"
   ]
  },
  {
   "cell_type": "code",
   "execution_count": 12,
   "metadata": {},
   "outputs": [],
   "source": [
    "#无序变量encode\n",
    "def encode_cate_attrs(data, cate_attrs):\n",
    "    data = encode_edu_attrs(data)\n",
    "    cate_attrs.remove('education')\n",
    "    for i in cate_attrs:\n",
    "        dummies_df = pd.get_dummies(data[i])\n",
    "        dummies_df = dummies_df.rename(columns=lambda x: i+'_'+str(x))\n",
    "        data = pd.concat([data,dummies_df],axis=1)\n",
    "        data = data.drop(i, axis=1)\n",
    "    return data"
   ]
  },
  {
   "cell_type": "markdown",
   "metadata": {},
   "source": [
    "将连续型特征离散化的一个好处是可以有效地克服数据中隐藏的缺陷： 使模型结果更加稳定。例如，数据中的极端值是影响模型效果的一个重要因素。极端值导致模型参数过高或过低，或导致模型被虚假现象\"迷惑\"，把原来不存在的关系作为重要模式来学习。而离散化，尤其是等距离散，可以有效地减弱极端值和异常值的影响。\n",
    "连续型特征离散化、数据的规范化操作如下："
   ]
  },
  {
   "cell_type": "code",
   "execution_count": 58,
   "metadata": {},
   "outputs": [],
   "source": [
    "def feature_scaling(data, numeric_attrs):\n",
    "    for i in numeric_attrs:\n",
    "        std = data[i].std()\n",
    "        if std != 0:\n",
    "            data[i] = (data[i]-data[i].mean()) / std\n",
    "        else:\n",
    "            data = data.drop(i, axis=1)\n",
    "    return data\n",
    "    \n",
    "def trans_num_attrs(data, numeric_attrs):\n",
    "    bining_num = 10\n",
    "    bining_attr = 'age'\n",
    "    #离散化连续数据，它使用分位数对数据进行划分（分箱: bining），可以得到大小基本相等的箱子(bin)，以区间形式表示。\n",
    "    #factorize()函数将区间转为数值。\n",
    "    data[bining_attr] = pd.qcut(data[bining_attr], bining_num)\n",
    "    data[bining_attr] = pd.factorize(data[bining_attr])[0]+1\n",
    "    \n",
    "    #数据标准化\n",
    "    for i in numeric_attrs: \n",
    "        scaler = preprocessing.StandardScaler()\n",
    "        data[i] = scaler.fit_transform(data[i].values.reshape(-1,1))     #####reshape 规定为一列\n",
    "    return data"
   ]
  },
  {
   "cell_type": "markdown",
   "metadata": {},
   "source": [
    "使用随机森林预测缺失值的方法实现如下："
   ]
  },
  {
   "cell_type": "code",
   "execution_count": 59,
   "metadata": {},
   "outputs": [],
   "source": [
    "def train_predict_unknown(trainX, trainY, testX):\n",
    "    forest = RandomForestClassifier(n_estimators=100)\n",
    "    forest = forest.fit(trainX, trainY.astype('int'))\n",
    "    test_predictY = forest.predict(testX).astype(int)\n",
    "    return pd.DataFrame(test_predictY, index=testX.index)"
   ]
  },
  {
   "cell_type": "markdown",
   "metadata": {},
   "source": [
    "处理缺失值"
   ]
  },
  {
   "cell_type": "code",
   "execution_count": 45,
   "metadata": {},
   "outputs": [],
   "source": [
    "def fill_unknown(data, bin_attrs, cate_attrs, numeric_attrs):\n",
    "    # 结果：fill_attrs = ['education', 'default', 'housing', 'loan']\n",
    "    fill_attrs = []\n",
    "    for i in bin_attrs+cate_attrs:\n",
    "        if data[data[i] == 'unknown']['y'].count() < 500:\n",
    "            # delete col containing unknown\n",
    "            data = data[data[i] != 'unknown'] \n",
    "        else:\n",
    "            fill_attrs.append(i)\n",
    "    print(fill_attrs)\n",
    "    \n",
    "    #分别处理二值、离散、连续的数据\n",
    "    data = encode_cate_attrs(data, cate_attrs)\n",
    "    data = encode_bin_attrs(data, bin_attrs)\n",
    "    data = trans_num_attrs(data, numeric_attrs)\n",
    "    data['y'] = data['y'].map({'no': 0, 'yes': 1}).astype(int)\n",
    "    \n",
    "    for i in fill_attrs:     \n",
    "        test_data = data[data[i] == 'unknown']\n",
    "        #print(test_data['default'])\n",
    "        testX = test_data.drop(fill_attrs, axis=1) #删除unknown列\n",
    "        \n",
    "        train_data = data[data[i] != 'unknown']        \n",
    "        trainY = train_data[i]\n",
    "        trainX = train_data.drop(fill_attrs, axis=1)    \n",
    "        #print(trainX)\n",
    "        \n",
    "        test_data[i] = train_predict_unknown(trainX, trainY, testX)\n",
    "        data = pd.concat([train_data, test_data])\n",
    "    \n",
    "    return data"
   ]
  },
  {
   "cell_type": "code",
   "execution_count": 46,
   "metadata": {},
   "outputs": [],
   "source": [
    "def preprocess_data():\n",
    "    input_data_path = '~/Desktop/homework/bank-additional/bank-additional-full.csv'\n",
    "    processed_data_path = '~/Desktop/homework/bank-additional/processed_data/bank-additional-full.csv'\n",
    "    print(\"Loading data...\")\n",
    "    data = pd.read_csv(input_data_path, sep=';')\n",
    "    print(\"Preprocessing data...\")\n",
    "    numeric_attrs = ['age', 'duration', 'campaign', 'pdays', 'previous',\n",
    "                     'emp.var.rate', 'cons.price.idx', 'cons.conf.idx',\n",
    "                     'euribor3m', 'nr.employed']\n",
    "    \n",
    "    bin_attrs = ['default', 'housing', 'loan']\n",
    "    cate_attrs = ['poutcome', 'education', 'job', 'marital', \n",
    "                  'contact', 'month','day_of_week']\n",
    "    \n",
    "    data = shuffle(data)\n",
    "    data = fill_unknown(data, bin_attrs, cate_attrs, numeric_attrs)\n",
    "    data.to_csv(processed_data_path, index=False)"
   ]
  },
  {
   "cell_type": "code",
   "execution_count": 47,
   "metadata": {
    "scrolled": false
   },
   "outputs": [
    {
     "name": "stdout",
     "output_type": "stream",
     "text": [
      "Loading data...\n",
      "Preprocessing data...\n",
      "['default', 'housing', 'loan', 'education']\n"
     ]
    },
    {
     "name": "stderr",
     "output_type": "stream",
     "text": [
      "/usr/local/lib/python3.7/site-packages/ipykernel_launcher.py:28: SettingWithCopyWarning: \n",
      "A value is trying to be set on a copy of a slice from a DataFrame.\n",
      "Try using .loc[row_indexer,col_indexer] = value instead\n",
      "\n",
      "See the caveats in the documentation: http://pandas.pydata.org/pandas-docs/stable/indexing.html#indexing-view-versus-copy\n",
      "/usr/local/lib/python3.7/site-packages/ipykernel_launcher.py:28: SettingWithCopyWarning: \n",
      "A value is trying to be set on a copy of a slice from a DataFrame.\n",
      "Try using .loc[row_indexer,col_indexer] = value instead\n",
      "\n",
      "See the caveats in the documentation: http://pandas.pydata.org/pandas-docs/stable/indexing.html#indexing-view-versus-copy\n",
      "/usr/local/lib/python3.7/site-packages/ipykernel_launcher.py:28: SettingWithCopyWarning: \n",
      "A value is trying to be set on a copy of a slice from a DataFrame.\n",
      "Try using .loc[row_indexer,col_indexer] = value instead\n",
      "\n",
      "See the caveats in the documentation: http://pandas.pydata.org/pandas-docs/stable/indexing.html#indexing-view-versus-copy\n",
      "/usr/local/lib/python3.7/site-packages/ipykernel_launcher.py:28: SettingWithCopyWarning: \n",
      "A value is trying to be set on a copy of a slice from a DataFrame.\n",
      "Try using .loc[row_indexer,col_indexer] = value instead\n",
      "\n",
      "See the caveats in the documentation: http://pandas.pydata.org/pandas-docs/stable/indexing.html#indexing-view-versus-copy\n"
     ]
    },
    {
     "name": "stdout",
     "output_type": "stream",
     "text": [
      "Cost time: 22s\n"
     ]
    }
   ],
   "source": [
    "start_time = datetime.now()\n",
    "preprocess_data()\n",
    "end_time = datetime.now()\n",
    "delta_seconds = (end_time - start_time).seconds\n",
    "print(\"Cost time: {}s\".format(delta_seconds))"
   ]
  },
  {
   "cell_type": "markdown",
   "metadata": {},
   "source": [
    "需要注意的是，由于原始数据是有序的（以时间为序），读取原始数据后，需要将其随机打乱，变成无序数据集。这里使用sklearn.utils包中的shuffle()函数进行打乱。\n",
    "\n",
    "一些情况下原始数据维度非常高，维度越高，数据在每个特征维度上的分布就越稀疏，这对机器学习算法基本都是灾难性（维度灾难）。当我们又没有办法挑选出有效的特征时，需要使用PCA等算法来降低数据维度，使得数据可以用于统计学习的算法。但是，如果能够挑选出少而精的特征了，那么PCA等降维算法没有很大必要。在本次实验中，数据集中的特征已经比较有代表性而且并不过多，所以应该不需要降维（实验证明降维确实没有帮助）。"
   ]
  },
  {
   "cell_type": "markdown",
   "metadata": {},
   "source": [
    "+ 到现在为止，已经完成数据预处理与特征工程部分,处理好的数据存储在../processed_data目录下，接下来进行模型的训练与评估"
   ]
  },
  {
   "cell_type": "markdown",
   "metadata": {},
   "source": [
    "划分数据集步骤。 \n",
    "首先，需要将处理好的数据集划分为3部分，分别是训练集（train set）、交叉检验集（Cross validation set）和测试集（test set）。（另见博客学习模型的评估和选择）。训练集是用于训练模型。交叉检验集用来进行模型的选择，包括选择不同的模型或者同一模型的不同参数，即选择在交叉检验集上的测试结果最优的模型。测试集用于检测最终选择的最优模型的质量。通常，可以按照6:2:2的比例划分"
   ]
  },
  {
   "cell_type": "code",
   "execution_count": 75,
   "metadata": {},
   "outputs": [],
   "source": [
    "def split_data(data):\n",
    "    data_len = data['y'].count()\n",
    "    split1 = int(data_len*0.6)\n",
    "    split2 = int(data_len*0.8)\n",
    "    train_data = data[:split1]\n",
    "    cv_data = data[split1:split2]\n",
    "    test_data = data[split2:]\n",
    "    \n",
    "    return train_data, cv_data, test_data"
   ]
  },
  {
   "cell_type": "markdown",
   "metadata": {},
   "source": [
    "对导入的数据集按如下方式进行简单统计可以发现，正样本（y=1）的数量远小于负样本（y=0）的数量，近似等于负样本数量的1/8。"
   ]
  },
  {
   "cell_type": "markdown",
   "metadata": {},
   "source": [
    "在分类模型中，这种数据不平衡问题会使得学习模型倾向于把样本分为多数类，但是，我们常常更关心少数类的预测情况。在本次分类问题中，分类目标是预测客户是(yes：1)否(no：0)认购定期存款（变量y）。显然，我们更关心有哪些客户认购定期存款。为减弱数据不均衡问题带来的不利影响，在数据层面有两种较简单的方法：过抽样和欠抽样。"
   ]
  },
  {
   "cell_type": "markdown",
   "metadata": {},
   "source": [
    "过抽样： 抽样处理不平衡数据的最常用方法，基本思想就是通过改变训练数据的分布来消除或减小数据的不平衡。过抽样方法通过增加少数类样本来提高少数类的分类性能 ，最简单的办法是简单复制少数类样本，缺点是可能导致过拟合，没有给少数类增加任何新的信息，泛化能力弱。改进的过抽样方法通过在少数类中加入随机高斯噪声或产生新的合成样本等方法。"
   ]
  },
  {
   "cell_type": "markdown",
   "metadata": {},
   "source": [
    "欠抽样： 欠抽样方法通过减少多数类样本来提高少数类的分类性能，最简单的方法是通过随机地去掉一些多数类样本来减小多数类的规模，缺点是会丢失多数类的一些重要信息，不能够充分利用已有的信息。 "
   ]
  },
  {
   "cell_type": "markdown",
   "metadata": {},
   "source": [
    "在本次实验中，采用Smote算法增加新的样本进行过抽样；采用随机地去掉一些多数类样本的方法进行欠抽样。Smote算法的基本思想是对于少数类中每一个样本x，以欧氏距离为标准计算它到少数类样本集中所有样本的距离，得到其k近邻。然后根据样本不平衡比例设置一个采样比例以确定采样倍率N，对于每一个少数类样本x，从其k近邻中随机选择若干个样本，构建新的样本。针对本实验的数据，为防止新生成的数据噪声过大，新的样本只有数值型变量真正是新生成的，其他变量和原样本一致。本次实验，采用了开源项目中的重采样的代码如下："
   ]
  },
  {
   "cell_type": "code",
   "execution_count": 76,
   "metadata": {},
   "outputs": [],
   "source": [
    "import random\n",
    "from sklearn.neighbors import NearestNeighbors\n",
    "import numpy as np\n",
    "\n",
    "class Smote:\n",
    "    def __init__(self,samples,N=10,k=3):\n",
    "        self.n_samples,self.n_attrs=samples.shape\n",
    "        self.N=N\n",
    "        self.k=k\n",
    "        self.samples=samples\n",
    "        self.newindex=0\n",
    "       # self.synthetic=np.zeros((self.n_samples*N,self.n_attrs))\n",
    "\n",
    "    def over_sampling(self):\n",
    "        N=int(self.N/1)\n",
    "        self.synthetic = np.zeros((self.n_samples * N, self.n_attrs))\n",
    "        neighbors=NearestNeighbors(n_neighbors=self.k).fit(self.samples)\n",
    "        for i in range(len(self.samples)):\n",
    "            nnarray=neighbors.kneighbors(self.samples[i].reshape(1,-1),return_distance=False)[0]\n",
    "            #print nnarray\n",
    "            self._populate(N,i,nnarray)\n",
    "        return self.synthetic\n",
    "\n",
    "\n",
    "    # for each minority class samples,choose N of the k nearest neighbors and generate N synthetic samples.\n",
    "    def _populate(self,N,i,nnarray):\n",
    "        for j in range(N):\n",
    "            nn=random.randint(0,self.k-1)\n",
    "            dif=self.samples[nnarray[nn]]-self.samples[i]\n",
    "            gap=random.random()\n",
    "            self.synthetic[self.newindex]=self.samples[i]+gap*dif\n",
    "            self.newindex+=1"
   ]
  },
  {
   "cell_type": "code",
   "execution_count": 77,
   "metadata": {},
   "outputs": [],
   "source": [
    "def resample_train_data(train_data, n, frac):\n",
    "    numeric_attrs = ['age', 'duration', 'campaign', 'pdays', 'previous',\n",
    "                 'emp.var.rate', 'cons.price.idx', 'cons.conf.idx',\n",
    "                 'euribor3m', 'nr.employed',]\n",
    "    #numeric_attrs = train_data.drop('y',axis=1).columns\n",
    "    pos_train_data_original = train_data[train_data['y'] == 1]\n",
    "    pos_train_data = train_data[train_data['y'] == 1]\n",
    "    new_count = n * pos_train_data['y'].count()\n",
    "    neg_train_data = train_data[train_data['y'] == 0].sample(frac=frac)\n",
    "    train_list = []\n",
    "    if n != 0:\n",
    "        pos_train_X = pos_train_data[numeric_attrs]\n",
    "        pos_train_X2 = pd.concat([pos_train_data.drop(numeric_attrs, axis=1)] * n)\n",
    "        pos_train_X2.index = range(new_count)\n",
    "        \n",
    "        s = Smote(pos_train_X.values, N=n, k=3)\n",
    "        pos_train_X = s.over_sampling()\n",
    "        pos_train_X = pd.DataFrame(pos_train_X, columns=numeric_attrs, \n",
    "                                   index=range(new_count))\n",
    "        pos_train_data = pd.concat([pos_train_X, pos_train_X2], axis=1)\n",
    "        pos_train_data = pd.DataFrame(pos_train_data, columns=pos_train_data_original.columns)\n",
    "        train_list = [pos_train_data, neg_train_data, pos_train_data_original]\n",
    "    else:\n",
    "        train_list = [neg_train_data, pos_train_data_original]\n",
    "    print(\"Size of positive train data: {} * {}\".format(pos_train_data_original['y'].count(), n+1))\n",
    "    print(\"Size of negative train data: {} * {}\".format(neg_train_data['y'].count(), frac))\n",
    "    train_data = pd.concat(train_list, axis=0)\n",
    "    return shuffle(train_data)"
   ]
  },
  {
   "cell_type": "markdown",
   "metadata": {},
   "source": [
    "常用的分类模型包括感知机，SVM，朴素贝叶斯，决策树，logistic回归，随机森林等等。"
   ]
  },
  {
   "cell_type": "markdown",
   "metadata": {},
   "source": [
    "对于不同的任务，评价一个模型的优劣可能不同。由于本次作业选取的数据集是不平衡的，数据集中负样本0值占数据集总比例88.7%，如果我们的模型\"预测\"所有的目标变量值都为0，那么准确度(Accuracy)应该在88.7%左右。显然，这是没有意义的。所以，我们更倾向于能够预测出正样本（y=1）的模型。因此，实验中将正样本的f1-score作为评价模型优劣的标准(也可以用其他类似的评价指标如AUC)。训练与评估的代码如下："
   ]
  },
  {
   "cell_type": "code",
   "execution_count": 78,
   "metadata": {},
   "outputs": [],
   "source": [
    "def train_evaluate(train_data, test_data, classifier, n=1, frac=1.0, threshold = 0.5):  \n",
    "    train_data = resample_train_data(train_data, n, frac)\n",
    "    train_X = train_data.drop('y',axis=1)\n",
    "    train_y = train_data['y']\n",
    "    test_X = test_data.drop('y', axis=1)\n",
    "    test_y = test_data['y']\n",
    "    \n",
    "    classifier = classifier.fit(train_X, train_y)\n",
    "    prodict_prob_y = classifier.predict_proba(test_X)[:,1]\n",
    "    report = classification_report(test_y, prodict_prob_y > threshold,\n",
    "                                   target_names = ['no', 'yes'])\n",
    "    prodict_y = (prodict_prob_y > threshold).astype(int)\n",
    "    accuracy = np.mean(test_y.values == prodict_y)\n",
    "    print(\"Accuracy: {}\".format(accuracy))    \n",
    "    print(report)\n",
    "    fpr, tpr, thresholds = metrics.roc_curve(test_y, prodict_prob_y)\n",
    "    precision, recall, thresholds = metrics.precision_recall_curve(test_y, prodict_prob_y)  \n",
    "    test_auc = metrics.auc(fpr, tpr)\n",
    "    plot_pr(test_auc, precision, recall, \"yes\")\n",
    "    \n",
    "    return prodict_y"
   ]
  },
  {
   "cell_type": "code",
   "execution_count": 83,
   "metadata": {},
   "outputs": [],
   "source": [
    "from datetime import datetime\n",
    "\n",
    "import pandas as pd\n",
    "import numpy as np\n",
    "from matplotlib import pylab\n",
    "import matplotlib.pyplot as plt\n",
    "\n",
    "from sklearn.ensemble import RandomForestClassifier\n",
    "from sklearn import metrics\n",
    "from sklearn.utils import shuffle\n",
    "from sklearn.linear_model import LogisticRegression\n",
    "from sklearn.metrics import classification_report\n",
    "from sklearn.ensemble import GradientBoostingClassifier\n",
    "from sklearn.svm import SVC"
   ]
  },
  {
   "cell_type": "code",
   "execution_count": 84,
   "metadata": {},
   "outputs": [],
   "source": [
    "def evaluate(test_predictY, test_y):\n",
    "    test_len = test_y.shape[0]\n",
    "    true_pos = 0\n",
    "    false_pos = 0\n",
    "    true_neg = 0\n",
    "    false_neg = 0\n",
    "    for i in range(test_len):\n",
    "        if test_predictY[i] == 1:\n",
    "            if test_y[i] == 1:\n",
    "                true_pos += 1\n",
    "            else:\n",
    "                false_pos += 1\n",
    "        else:\n",
    "            if test_y[i] == 0:\n",
    "                true_neg += 1\n",
    "            else:\n",
    "                false_neg += 1\n",
    "    \n",
    "    accuracy = 1.0 * (true_pos+true_neg) / test_len\n",
    "    precision  = 1.0 * true_pos / (true_pos + false_pos)\n",
    "    recall = 1.0 * true_pos / (true_pos + false_neg)\n",
    "    f1Score = 2 * precision * recall / (precision + recall)\n",
    "    print(\"Accuracy: {}\".format(accuracy))\n",
    "    print(\"Precision: {}\".format(precision ))\n",
    "    print(\"Recall: {}\".format(recall))\n",
    "    print(\"F1 Score: {}\".format(f1Score))\n",
    "\n",
    "\n",
    "def plot_pr(auc_score, precision, recall, label=None):  \n",
    "    pylab.figure(num=None, figsize=(6, 5))  \n",
    "    pylab.xlim([0.0, 1.0])  \n",
    "    pylab.ylim([0.0, 1.0])\n",
    "    pylab.xlabel('Recall')  \n",
    "    pylab.ylabel('Precision')  \n",
    "    pylab.title('P/R (AUC=%0.2f) / %s' % (auc_score, label))  \n",
    "    pylab.fill_between(recall, precision, alpha=0.2)  \n",
    "    pylab.grid(True, linestyle='-', color='0.75')  \n",
    "    pylab.plot(recall, precision, lw=1)      \n",
    "    pylab.show()\n",
    "    \n",
    "\n",
    "\n",
    "def plot_roc(auc_score, fpr, tpr, label=None):  \n",
    "    pylab.figure(num=None, figsize=(6, 5))  \n",
    "    pylab.xlim([0.0, 1.0])  \n",
    "    pylab.ylim([0.0, 1.0])\n",
    "    pylab.xlabel('False positive rate')  \n",
    "    pylab.ylabel('True positive rate')  \n",
    "    pylab.title('ROC (AUC=%0.2f) / %s' % (auc_score, label))  \n",
    "    pylab.fill_between(fpr, tpr, alpha=0.2)  \n",
    "    pylab.grid(True, linestyle='-', color='0.75')  \n",
    "    pylab.plot(fpr, tpr, lw=1)      \n",
    "    pylab.show()\n",
    "\n",
    "\n",
    "def train_evaluate(train_data, test_data, classifier, n=1, frac=1.0, threshold = 0.5):  \n",
    "    train_data = resample_train_data(train_data, n, frac)\n",
    "    train_X = train_data.drop('y',axis=1)\n",
    "    train_y = train_data['y']\n",
    "    test_X = test_data.drop('y', axis=1)\n",
    "    test_y = test_data['y']\n",
    "    \n",
    "    classifier = classifier.fit(train_X, train_y)\n",
    "    prodict_prob_y = classifier.predict_proba(test_X)[:,1]\n",
    "    report = classification_report(test_y, prodict_prob_y > threshold,\n",
    "                                   target_names = ['no', 'yes'])\n",
    "    prodict_y = (prodict_prob_y > threshold).astype(int)\n",
    "    accuracy = np.mean(test_y.values == prodict_y)\n",
    "    print(\"Accuracy: {}\".format(accuracy))    \n",
    "    print(report)\n",
    "    fpr, tpr, thresholds = metrics.roc_curve(test_y, prodict_prob_y)\n",
    "    precision, recall, thresholds = metrics.precision_recall_curve(test_y, prodict_prob_y)  \n",
    "    test_auc = metrics.auc(fpr, tpr)\n",
    "    plot_pr(test_auc, precision, recall, \"yes\")\n",
    "    \n",
    "    return prodict_y\n",
    "\n",
    "\n",
    "#用不同的分类模型进行测试\n",
    "def select_model(model ,train_data, cv_data):    \n",
    "    for name in model:\n",
    "        if name == 'svm':\n",
    "            clf = SVC(kernel='rbf', probability=True)\n",
    "            train_evaluate(train_data, cv_data, clf, n=7, frac=1.0, threshold=0.4)\n",
    "        elif name == 'randomforest':\n",
    "            forest = RandomForestClassifier(n_estimators=400, oob_score=True)\n",
    "            train_evaluate(train_data, cv_data, forest, n=7, frac=1.0, threshold=0.4)\n",
    "        elif name == 'logisticregression':\n",
    "            lr = LogisticRegression(max_iter=100, C=1, random_state=0)\n",
    "            train_evaluate(train_data, cv_data, lr, n=7, frac=1.0, threshold=0.4)\n",
    "            \n",
    "            \n",
    "    \n",
    "#确定关键特征\n",
    "def find_key_attrs(forest):\n",
    "    feature_importance = forest.feature_importances_\n",
    "    feature_importance = 100.0 * (feature_importance / feature_importance.max())\n",
    "    fi_threshold = 5\n",
    "    important_idx = np.where(feature_importance > fi_threshold)[0]\n",
    "    important_features = features_list[important_idx]\n",
    "    print(\"\\n\", important_features.shape[0], \"Important features(>\", \\\n",
    "          fi_threshold, \"% of max importance)...\\n\")#, \\\n",
    "    \n",
    "    #important_features\n",
    "    sorted_idx = np.argsort(feature_importance[important_idx])[::-1]\n",
    "    #get the figure about important features\n",
    "    pos = np.arange(sorted_idx.shape[0]) + .5\n",
    "    #plt.subplot(1, 2, 2)\n",
    "    plt.title('Feature Importance')\n",
    "    plt.barh(pos, feature_importance[important_idx][sorted_idx[::-1]], \\\n",
    "            color='r',align='center')\n",
    "    plt.yticks(pos, important_features[sorted_idx[::-1]])\n",
    "    plt.xlabel('Relative Importance')\n",
    "    plt.draw()\n",
    "    plt.show()"
   ]
  },
  {
   "cell_type": "code",
   "execution_count": 85,
   "metadata": {},
   "outputs": [
    {
     "name": "stdout",
     "output_type": "stream",
     "text": [
      "Size of positive train data: 3088 * 8\n",
      "Size of negative train data: 21384 * 1.0\n"
     ]
    },
    {
     "name": "stderr",
     "output_type": "stream",
     "text": [
      "/usr/local/lib/python3.7/site-packages/sklearn/svm/base.py:193: FutureWarning: The default value of gamma will change from 'auto' to 'scale' in version 0.22 to account better for unscaled features. Set gamma explicitly to 'auto' or 'scale' to avoid this warning.\n",
      "  \"avoid this warning.\", FutureWarning)\n"
     ]
    },
    {
     "name": "stdout",
     "output_type": "stream",
     "text": [
      "Accuracy: 0.881696702218953\n",
      "              precision    recall  f1-score   support\n",
      "\n",
      "          no       0.98      0.89      0.93      7268\n",
      "         yes       0.48      0.82      0.60       889\n",
      "\n",
      "    accuracy                           0.88      8157\n",
      "   macro avg       0.73      0.86      0.77      8157\n",
      "weighted avg       0.92      0.88      0.89      8157\n",
      "\n"
     ]
    },
    {
     "data": {
      "image/png": "[encoded data removed]",
      "text/plain": [
       "<Figure size 432x360 with 1 Axes>"
      ]
     },
     "metadata": {
      "needs_background": "light"
     },
     "output_type": "display_data"
    },
    {
     "name": "stdout",
     "output_type": "stream",
     "text": [
      "Size of positive train data: 3088 * 8\n",
      "Size of negative train data: 21384 * 1.0\n",
      "Accuracy: 0.9006987863184994\n",
      "              precision    recall  f1-score   support\n",
      "\n",
      "          no       0.97      0.92      0.94      7268\n",
      "         yes       0.53      0.76      0.63       889\n",
      "\n",
      "    accuracy                           0.90      8157\n",
      "   macro avg       0.75      0.84      0.78      8157\n",
      "weighted avg       0.92      0.90      0.91      8157\n",
      "\n"
     ]
    },
    {
     "data": {
      "image/png": "[encoded data removed]",
      "text/plain": [
       "<Figure size 432x360 with 1 Axes>"
      ]
     },
     "metadata": {
      "needs_background": "light"
     },
     "output_type": "display_data"
    },
    {
     "name": "stdout",
     "output_type": "stream",
     "text": [
      "Size of positive train data: 3088 * 8\n",
      "Size of negative train data: 21384 * 1.0\n"
     ]
    },
    {
     "name": "stderr",
     "output_type": "stream",
     "text": [
      "/usr/local/lib/python3.7/site-packages/sklearn/linear_model/logistic.py:432: FutureWarning: Default solver will be changed to 'lbfgs' in 0.22. Specify a solver to silence this warning.\n",
      "  FutureWarning)\n"
     ]
    },
    {
     "name": "stdout",
     "output_type": "stream",
     "text": [
      "Accuracy: 0.8419762167463528\n",
      "              precision    recall  f1-score   support\n",
      "\n",
      "          no       0.99      0.83      0.90      7268\n",
      "         yes       0.40      0.90      0.56       889\n",
      "\n",
      "    accuracy                           0.84      8157\n",
      "   macro avg       0.69      0.87      0.73      8157\n",
      "weighted avg       0.92      0.84      0.87      8157\n",
      "\n"
     ]
    },
    {
     "data": {
      "image/png": "[encoded data removed]",
      "text/plain": [
       "<Figure size 432x360 with 1 Axes>"
      ]
     },
     "metadata": {
      "needs_background": "light"
     },
     "output_type": "display_data"
    },
    {
     "name": "stdout",
     "output_type": "stream",
     "text": [
      "Training...\n",
      "Size of positive train data: 3088 * 8\n",
      "Size of negative train data: 21384 * 1\n",
      "Accuracy: 0.9275557734738906\n",
      "              precision    recall  f1-score   support\n",
      "\n",
      "          no       0.98      0.94      0.96      7541\n",
      "         yes       0.51      0.74      0.61       617\n",
      "\n",
      "    accuracy                           0.93      8158\n",
      "   macro avg       0.75      0.84      0.78      8158\n",
      "weighted avg       0.94      0.93      0.93      8158\n",
      "\n"
     ]
    },
    {
     "data": {
      "image/png": "[encoded data removed]",
      "text/plain": [
       "<Figure size 432x360 with 1 Axes>"
      ]
     },
     "metadata": {
      "needs_background": "light"
     },
     "output_type": "display_data"
    },
    {
     "name": "stdout",
     "output_type": "stream",
     "text": [
      "\n",
      " 17 Important features(> 5 % of max importance)...\n",
      "\n"
     ]
    },
    {
     "data": {
      "image/png": "[encoded data removed]",
      "text/plain": [
       "<Figure size 432x288 with 1 Axes>"
      ]
     },
     "metadata": {
      "needs_background": "light"
     },
     "output_type": "display_data"
    },
    {
     "name": "stdout",
     "output_type": "stream",
     "text": [
      "Cost time: 29s\n"
     ]
    }
   ],
   "source": [
    "processed_data = './bank-additional/processed_data/bank-additional-full.csv'\n",
    "data = pd.read_csv(processed_data)\n",
    "train_data, cv_data, test_data = split_data(data)\n",
    "\n",
    "features_list = train_data.drop('y',axis=1).columns\n",
    "select_model(['svm', 'randomforest', 'logisticregression'], train_data, cv_data)\n",
    "start_time = datetime.now()\n",
    "\n",
    "print('Training...')\n",
    "forest = RandomForestClassifier(n_estimators=400, oob_score=True)\n",
    "prodict_y = train_evaluate(train_data, test_data, forest, n=7, frac=1, threshold=0.40)\n",
    "find_key_attrs(forest) #寻找关键特征\n",
    "\n",
    "end_time = datetime.now()\n",
    "delta_seconds = (end_time - start_time).seconds\n",
    "\n",
    "print(\"Cost time: {}s\".format(delta_seconds))"
   ]
  },
  {
   "cell_type": "code",
   "execution_count": null,
   "metadata": {},
   "outputs": [],
   "source": []
  }
 ],
 "metadata": {
  "kernelspec": {
   "display_name": "Python 3",
   "language": "python",
   "name": "python3"
  },
  "language_info": {
   "codemirror_mode": {
    "name": "ipython",
    "version": 3
   },
   "file_extension": ".py",
   "mimetype": "text/x-python",
   "name": "python",
   "nbconvert_exporter": "python",
   "pygments_lexer": "ipython3",
   "version": "3.7.3"
  }
 },
 "nbformat": 4,
 "nbformat_minor": 2
}
